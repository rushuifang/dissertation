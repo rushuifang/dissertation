{
 "cells": [
  {
   "cell_type": "code",
   "execution_count": 1,
   "metadata": {},
   "outputs": [
    {
     "name": "stderr",
     "output_type": "stream",
     "text": [
      "/Users/rushuifang/Desktop/QuantumStateReconstruction/qsr_iterate.py:54: FutureWarning: Call to deprecated function 'add_observable'\n",
      "  qst.add_observable(ha, \"Energy\")\n"
     ]
    }
   ],
   "source": [
    "import qsr_iterate"
   ]
  },
  {
   "cell_type": "code",
   "execution_count": 2,
   "metadata": {},
   "outputs": [
    {
     "name": "stderr",
     "output_type": "stream",
     "text": [
      "/Users/rushuifang/Desktop/QuantumStateReconstruction/qsr_iterate.py:61: FutureWarning: Call to deprecated function 'get_observable_stats'\n",
      "  obs = qst.get_observable_stats()\n"
     ]
    },
    {
     "name": "stdout",
     "output_type": "stream",
     "text": [
      "step=0\n",
      "observables={'Energy': (-9.955 - 0.002i) ± 0.091 [var=9.027, R=0.99912], '': None}\n",
      "fidelity=0.6817471050925942\n",
      "negative log likelihood=7.513003766700441\n"
     ]
    },
    {
     "name": "stderr",
     "output_type": "stream",
     "text": [
      "/Users/rushuifang/Desktop/QuantumStateReconstruction/qsr_iterate.py:61: FutureWarning: Call to deprecated function 'get_observable_stats'\n",
      "  obs = qst.get_observable_stats()\n"
     ]
    },
    {
     "name": "stdout",
     "output_type": "stream",
     "text": [
      "step=50\n",
      "observables={'Energy': (-11.546 - 0.010i) ± 0.067 [var=3.611, R=1.00435], '': None}\n",
      "fidelity=0.9053719993486259\n",
      "negative log likelihood=5.879295077076581\n",
      "step=100\n",
      "observables={'Energy': (-11.880 - 0.015i) ± 0.061 [var=2.480, R=1.00801], '': None}\n",
      "fidelity=0.9448398797113263\n",
      "negative log likelihood=5.738287074647232\n",
      "step=150\n",
      "observables={'Energy': (-12.081 - 0.010i) ± 0.035 [var=1.560, R=0.99692], '': None}\n",
      "fidelity=0.9667891040573935\n",
      "negative log likelihood=5.666392972385747\n",
      "step=200\n",
      "observables={'Energy': (-12.121 + 0.007i) ± 0.028 [var=1.373, R=0.99363], '': None}\n",
      "fidelity=0.976027299296635\n",
      "negative log likelihood=5.644052206218145\n",
      "step=250\n",
      "observables={'Energy': (-12.178 - 0.003i) ± 0.032 [var=1.196, R=0.99830], '': None}\n",
      "fidelity=0.9802423071449492\n",
      "negative log likelihood=5.629990126021738\n",
      "step=300\n",
      "observables={'Energy': (-12.159 + 0.008i) ± 0.036 [var=0.918, R=1.00648], '': None}\n",
      "fidelity=0.9831460965569548\n",
      "negative log likelihood=5.621317089709521\n",
      "step=350\n",
      "observables={'Energy': (-12.257 + 0.004i) ± 0.026 [var=0.792, R=0.99836], '': None}\n",
      "fidelity=0.9844600588808352\n",
      "negative log likelihood=5.615926890193041\n",
      "step=400\n",
      "observables={'Energy': (-12.295 - 0.007i) ± 0.033 [var=0.793, R=1.00635], '': None}\n",
      "fidelity=0.9828129645147528\n",
      "negative log likelihood=5.6159288079293255\n",
      "step=450\n",
      "observables={'Energy': (-12.258 - 0.009i) ± 0.029 [var=0.673, R=1.00382], '': None}\n",
      "fidelity=0.9873532933139313\n",
      "negative log likelihood=5.6047082358250755\n"
     ]
    },
    {
     "data": {
      "image/png": "[encoded data removed]",
      "text/plain": [
       "<Figure size 432x288 with 1 Axes>"
      ]
     },
     "metadata": {
      "needs_background": "light"
     },
     "output_type": "display_data"
    }
   ],
   "source": [
    "qsr_iterate.run()"
   ]
  },
  {
   "cell_type": "code",
   "execution_count": 3,
   "metadata": {},
   "outputs": [
    {
     "name": "stdout",
     "output_type": "stream",
     "text": [
      "Done\n"
     ]
    }
   ],
   "source": [
    "# import matplotlib.pyplot as plt\n",
    "# import numpy as np\n",
    "# from qsr_iterate import fidelities\n",
    "print(\"Done\")"
   ]
  },
  {
   "cell_type": "code",
   "execution_count": 4,
   "metadata": {},
   "outputs": [],
   "source": [
    "# import ising1d"
   ]
  },
  {
   "cell_type": "code",
   "execution_count": 5,
   "metadata": {},
   "outputs": [],
   "source": [
    "# import plot_ising"
   ]
  },
  {
   "cell_type": "code",
   "execution_count": 6,
   "metadata": {},
   "outputs": [],
   "source": [
    "# plt.plot(np.arange(1, 501, 50), fidelities)\n",
    "# plt.ylabel(\"Fidelity\")\n",
    "# plt.xlabel(\"Iteration\")"
   ]
  },
  {
   "cell_type": "code",
   "execution_count": 7,
   "metadata": {},
   "outputs": [],
   "source": [
    "from qsr_iterate import fidelities"
   ]
  },
  {
   "cell_type": "code",
   "execution_count": 8,
   "metadata": {},
   "outputs": [
    {
     "name": "stdout",
     "output_type": "stream",
     "text": [
      "[0.6817471050925942, 0.9053719993486259, 0.9448398797113263, 0.9667891040573935, 0.976027299296635, 0.9802423071449492, 0.9831460965569548, 0.9844600588808352, 0.9828129645147528, 0.9873532933139313]\n"
     ]
    }
   ],
   "source": [
    "print(fidelities)"
   ]
  },
  {
   "cell_type": "code",
   "execution_count": 9,
   "metadata": {},
   "outputs": [
    {
     "name": "stdout",
     "output_type": "stream",
     "text": [
      "__main__\n"
     ]
    }
   ],
   "source": [
    "print(__name__)"
   ]
  },
  {
   "cell_type": "code",
   "execution_count": null,
   "metadata": {},
   "outputs": [],
   "source": []
  }
 ],
 "metadata": {
  "kernelspec": {
   "display_name": "Python 3",
   "language": "python",
   "name": "python3"
  },
  "language_info": {
   "codemirror_mode": {
    "name": "ipython",
    "version": 3
   },
   "file_extension": ".py",
   "mimetype": "text/x-python",
   "name": "python",
   "nbconvert_exporter": "python",
   "pygments_lexer": "ipython3",
   "version": "3.7.1"
  }
 },
 "nbformat": 4,
 "nbformat_minor": 2
}
